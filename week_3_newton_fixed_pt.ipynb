{
 "cells": [
  {
   "cell_type": "markdown",
   "metadata": {},
   "source": [
    "# Part I. Root-finding. Newton's iteration."
   ]
  },
  {
   "cell_type": "markdown",
   "metadata": {},
   "source": [
    "Write a function which performs Newton's iteration for a given function $f(x)$ with known derivative $f'(x)$. Your function should find the root of $f(x)$ with a predefined absolute accuracy $\\epsilon$. "
   ]
  },
  {
   "cell_type": "code",
   "execution_count": 3,
   "metadata": {},
   "outputs": [],
   "source": [
    "def newton_iteration(f, fder, x0, eps=1e-5, maxiter=1000):\n",
    "    \"\"\"Find a root of $f(x) = 0$ via Newton's iteration starting from x0.\n",
    "    \n",
    "    Parameters\n",
    "    ----------\n",
    "    f : callable\n",
    "        The function to find a root of.\n",
    "    fder : callable\n",
    "        The derivative of `f`.\n",
    "    x0 : float\n",
    "        Initial value for the Newton's iteration.\n",
    "    eps : float\n",
    "        The target accuracy. \n",
    "        The iteration stops when the distance between successive iterates is below `eps`.\n",
    "        Default is 1e-5.\n",
    "    maxiter : int\n",
    "        The maximum number of iterations (default is 1000.)\n",
    "        Iterations terminate if the number of iterations exceeds `maxiter`.\n",
    "        This parameter is only needed to avoid infinite loops if iterations wander off.\n",
    "        \n",
    "    Returns\n",
    "    -------\n",
    "    x : float\n",
    "        The estimate for the root.\n",
    "    niter : int\n",
    "        The number of iterations.\n",
    "    \"\"\"\n",
    "    x_i, x_prev, i = x0, x0 + 2*eps, 0\n",
    "    \n",
    "    while abs(x_i - x_prev) >= eps and i < maxiter:\n",
    "        \n",
    "        d =  fder(x_i) if fder(x_i) != 0.0 else eps\n",
    "        x_i, x_prev, i = x_i -  f(x_i) / d, x_i, i + 1\n",
    "        \n",
    "    return x_i, i"
   ]
  },
  {
   "cell_type": "markdown",
   "metadata": {},
   "source": [
    "### Test I.1 \n",
    "\n",
    "Test your implementation on a simple example, $f(x) = x^2 - 1$ or similar. (20% of the total grade)"
   ]
  },
  {
   "cell_type": "code",
   "execution_count": 10,
   "metadata": {},
   "outputs": [],
   "source": [
    "from numpy.testing import assert_allclose\n",
    "\n",
    "f = lambda x: x*x-1\n",
    "df = lambda x: 2*x\n",
    "\n",
    "x0 = 0.5\n",
    "x1, niter = newton_iteration(f, df, x0, eps=1e-7, maxiter=1000)\n",
    "assert_allclose(x1, 1, atol=1e-10)\n",
    "x0 = -0.5\n",
    "x1, niter = newton_iteration(f, df, x0, eps=1e-7, maxiter=1000)\n",
    "assert_allclose(x1, -1, atol=1e-10)"
   ]
  },
  {
   "cell_type": "markdown",
   "metadata": {},
   "source": [
    "### Test I.2\n",
    "\n",
    "Now consider a function which has a multiple root. Take $f(x) = (x^2 - 1)^2$ as an example. Implement a modified Newton's iteraion,\n",
    "\n",
    "$$\n",
    "x_{n+1} = x_{n} - m \\frac{f(x_n)}{f'(x_n)}\n",
    "$$\n",
    "\n",
    "and vary $m= 1, 2, 3, 4, 5$. Check the number of iterations required for convergence within a fixed $\\epsilon$. Are your observations consistent with the expectation that the convergence is quadratic is $m$ equals the multiplicity of the root, and is linear otherwise? (40% of the total grade)"
   ]
  },
  {
   "cell_type": "code",
   "execution_count": 14,
   "metadata": {},
   "outputs": [
    {
     "name": "stdout",
     "output_type": "stream",
     "text": [
      "Start: 0.5, m: 1, root: 0.9999999478666423, iterations: 22\n",
      "Start: 0.5, m: 2, root: 1.000000000000001, iterations: 5\n",
      "Start: 0.5, m: 3, root: 1.0000000177993242, iterations: 25\n",
      "Start: 0.5, m: 4, root: 0.5, iterations: 1000\n",
      "Start: 0.5, m: 5, root: -1.55057453862551, iterations: 1000\n",
      "Start: -0.5, m: 1, root: -0.9999999478666423, iterations: 22\n",
      "Start: -0.5, m: 2, root: -1.000000000000001, iterations: 5\n",
      "Start: -0.5, m: 3, root: -1.0000000177993242, iterations: 25\n",
      "Start: -0.5, m: 4, root: -0.5, iterations: 1000\n",
      "Start: -0.5, m: 5, root: 1.55057453862551, iterations: 1000\n"
     ]
    }
   ],
   "source": [
    "def newton_iteration_m(f, df, x_0, e=1e-7, max_iter=1000, m=1):\n",
    "    x_i, x_prev, i = x_0, x_0 + 2*e, 0\n",
    "    \n",
    "    while abs(x_i - x_prev) >= e and i < max_iter:\n",
    "        \n",
    "        d =  df(x_i) #if df(x_i) != 0.0 else e\n",
    "        x_i, x_prev, i = x_i - m * f(x_i) / d, x_i, i + 1\n",
    "        \n",
    "    return x_i, i\n",
    "\n",
    "f = lambda x: (x*x-1)** 2\n",
    "df = lambda x: 4*x*(x*x -1)\n",
    "\n",
    "x0 = 0.5\n",
    "\n",
    "for m in range(1,6):\n",
    "    x1, niter = newton_iteration_m(f, df, x0, 1e-7, 1000, m)\n",
    "    print(\"Start: {}, m: {}, root: {}, iterations: {}\".format(x0, m, x1, niter))\n",
    "\n",
    "\n",
    "x0 = -0.5\n",
    "for m in range(1,6):\n",
    "    x1, niter = newton_iteration_m(f, df, x0, 1e-7, 1000, m)\n",
    "    print(\"Start: {}, m: {}, root: {}, iterations: {}\".format(x0, m, x1, niter))"
   ]
  },
  {
   "cell_type": "markdown",
   "metadata": {},
   "source": [
    "Convergence if m = 2 is quadratic, if m = 1 or 3 is linear, if m = 4,5 convergence is absent."
   ]
  },
  {
   "cell_type": "markdown",
   "metadata": {},
   "source": [
    "# Part II. Fixed-point iteration"
   ]
  },
  {
   "cell_type": "markdown",
   "metadata": {},
   "source": [
    "Consider the following equation:\n",
    "\n",
    "$$\n",
    "\\sqrt{x} = \\cos{x}\n",
    "$$\n",
    "\n",
    "Plot the left-hand side and right-hand side of this equation, and localize the root graphically. Estimate the location of the root by visual inspection of the plot.\n",
    "\n",
    "Write a function which finds the solution using fixed-point iteration up to a predefined accuracy $\\epsilon$. Compare the result to an estimate from a visual inspection.\n",
    "\n",
    "Next, rewrite the fixed-point problem in the form\n",
    "\n",
    "$$\n",
    "x = x - \\alpha f(x)\n",
    "$$\n",
    "\n",
    "where $\\alpha$ is the free parameter. Check the dependence of the number of iterations required for a given $\\epsilon$ on $\\alpha$. Compare your results to an expectation that the optimal value of $\\alpha$ is given by \n",
    "\n",
    "$$\n",
    "\\alpha = \\frac{2}{m + M}\n",
    "$$\n",
    "\n",
    "where $0 < m < |f'(x)| < M$ over the localization interval. (40% of the total grade)"
   ]
  },
  {
   "cell_type": "code",
   "execution_count": 34,
   "metadata": {},
   "outputs": [
    {
     "data": {
      "image/png": "[encoded data removed]",
      "text/plain": [
       "<Figure size 432x288 with 1 Axes>"
      ]
     },
     "metadata": {
      "needs_background": "light"
     },
     "output_type": "display_data"
    }
   ],
   "source": [
    "import numpy as np\n",
    "%matplotlib inline\n",
    "import matplotlib.pyplot as plt\n",
    "\n",
    "f = lambda x: np.sqrt(x) - np.cos(x)\n",
    "\n",
    "x_arr = np.linspace(0, 10)\n",
    "zeros = np.zeros(50)\n",
    "f_arr = [f(x) for x in x_arr]\n",
    "\n",
    "plt.plot(x_arr, f_arr)\n",
    "plt.plot(x_arr, zeros)\n",
    "plt.title(\"Root localization\")\n",
    "plt.xlabel(\"x\")\n",
    "plt.ylabel(\"y\")\n",
    "plt.grid(True)\n",
    "\n"
   ]
  },
  {
   "cell_type": "code",
   "execution_count": 50,
   "metadata": {},
   "outputs": [
    {
     "name": "stdout",
     "output_type": "stream",
     "text": [
      "Alpha:0.2, x:0.6417169507002649, iterations: 42\n",
      "Alpha:0.5, x:0.6417149378257078, iterations: 14\n",
      "Alpha:1.0, x:0.6417145001861311, iterations: 10\n",
      "Alpha:1.5, x:0.6417147825140594, iterations: 76\n"
     ]
    }
   ],
   "source": [
    "def fixed_point(f, x0, alpha, e, maxiter):\n",
    "    phi = lambda x: x - alpha * f(x)\n",
    "    x_i, x_prev, i = x0, x0 + 2*e, 0\n",
    "    \n",
    "    while abs(x_i - x_prev) >= e and i < maxiter:\n",
    "        x_i, x_prev, i = phi(x_i), x_i, i+1\n",
    "    return x_i, i\n",
    "\n",
    "for a in [0.2, 0.5, 1.0, 1.5]:\n",
    "    x, n = fixed_point(f, 1.0, a, 10e-7, 1000)\n",
    "    print(\"Alpha:{}, x:{}, iterations: {}\".format(a, x, n))"
   ]
  },
  {
   "cell_type": "code",
   "execution_count": 56,
   "metadata": {},
   "outputs": [
    {
     "data": {
      "image/png": "[encoded data removed]",
      "text/plain": [
       "<Figure size 432x288 with 1 Axes>"
      ]
     },
     "metadata": {
      "needs_background": "light"
     },
     "output_type": "display_data"
    }
   ],
   "source": [
    "#estimation of derivative\n",
    "x_arr = np.linspace(0.5, 1, 50)\n",
    "plt.plot(x_arr, (1/2/np.sqrt(x_arr) + np.sin(x_arr)))\n",
    "plt.title(\"Derivative of f(x)\")\n",
    "plt.xlabel(\"x\")\n",
    "plt.ylabel(\"y\")\n",
    "plt.grid(True)"
   ]
  },
  {
   "cell_type": "code",
   "execution_count": 57,
   "metadata": {},
   "outputs": [
    {
     "name": "stdout",
     "output_type": "stream",
     "text": [
      "Alpha:0.7905138339920947, x:0.6417143643772948, iterations: 5\n"
     ]
    }
   ],
   "source": [
    "m = 1.18\n",
    "M = 1.35\n",
    "alpha = 2/ (m + M)\n",
    "x, n = fixed_point(f, 1.0, alpha, 10e-7, 1000)\n",
    "print(\"Alpha:{}, x:{}, iterations: {}\".format(alpha, x, n))\n",
    "# This alpha is simply the best"
   ]
  },
  {
   "cell_type": "markdown",
   "metadata": {},
   "source": [
    "# Part III. Newton's fractal.\n",
    "\n",
    "(Not graded). \n",
    "\n",
    "Consider the equation\n",
    "\n",
    "$$\n",
    "x^3 = 1\n",
    "$$\n",
    "\n",
    "It has three solutions in the complex plane, $x_k = \\exp(i\\, 2\\pi k/ 3)$, $k = 0, 1, 2$.\n",
    "\n",
    "The Newton's iterations converge to one of these solutions, depending on the starting point in the complex plane (to converge to a complex-valued solution, the iteration needs a complex-valued starting point).\n",
    "\n",
    "Plot the \\emph{basins of attraction} of these roots on the complex plane of $x$ (i.e., on the plane $\\mathrm{Re}x$ -- $\\mathrm{Im}x$). To this end, make a series of calculations, varying the initial conditions on a grid of points. \n",
    "Color the grid in three colors, according to the root, to which iterations converged."
   ]
  },
  {
   "cell_type": "code",
   "execution_count": null,
   "metadata": {
    "collapsed": true
   },
   "outputs": [],
   "source": []
  }
 ],
 "metadata": {
  "kernelspec": {
   "display_name": "Python 3",
   "language": "python",
   "name": "python3"
  },
  "language_info": {
   "codemirror_mode": {
    "name": "ipython",
    "version": 3
   },
   "file_extension": ".py",
   "mimetype": "text/x-python",
   "name": "python",
   "nbconvert_exporter": "python",
   "pygments_lexer": "ipython3",
   "version": "3.7.3"
  }
 },
 "nbformat": 4,
 "nbformat_minor": 2
}
