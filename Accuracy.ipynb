{
 "cells": [
  {
   "cell_type": "markdown",
   "metadata": {},
   "source": [
    "## Лабораторная работа 3\n",
    "### Четвериков Илья БПМ171 Вариант 29\n",
    "\n",
    "#### Задача 1.1.29\n",
    "\n",
    "Дан ряд $\\sum_{n=0}^{\\infty} a_n$. Найти сумму ряда аналитически. Вычислить значения частичных сумм ряда $S_N = \\sum_{n=0}^{N} a_n$ и найти величину погрешности при $N = 10, 10^2, 10^3, 10^4, 10^5$. Построить гистограмму зависимости верных цифр результата от $N$.\n",
    "\n",
    "$$S_N = \\sum_{n=0}^N \\frac{72}{n^2 + 6n + 8}$$\n",
    "\n",
    "Аналитически найдем значение суммы ряда\n",
    "\n",
    "\n",
    "\n",
    "$$S_N = \\sum_{n=0}^N \\frac{72}{n^2 + 6n + 8} = 72\\sum_{n=0}^N \\frac{1}{(n+2)(n+4)} = \\frac{72}{2} \\sum_{n=0}^N (\\frac{1}{n+2} - \\frac{1}{n+4}) = \\frac{72}{2}(\\frac{1}{2} + \\frac{1}{3} - \\frac{1}{N+3} - \\frac{1}{N+4})$$\n",
    "$$ S = \\lim_{N\\to\\infty} S_N = \\frac{72}{2}(\\frac{1}{2} + \\frac{1}{3}) = \\frac{72}{2} \\frac{5}{6}=30$$\n",
    "\n",
    "Программно вычислим"
   ]
  },
  {
   "cell_type": "code",
   "execution_count": 17,
   "metadata": {},
   "outputs": [
    {
     "data": {
      "text/html": [
       "<div>\n",
       "<style scoped>\n",
       "    .dataframe tbody tr th:only-of-type {\n",
       "        vertical-align: middle;\n",
       "    }\n",
       "\n",
       "    .dataframe tbody tr th {\n",
       "        vertical-align: top;\n",
       "    }\n",
       "\n",
       "    .dataframe thead th {\n",
       "        text-align: right;\n",
       "    }\n",
       "</style>\n",
       "<table border=\"1\" class=\"dataframe\">\n",
       "  <thead>\n",
       "    <tr style=\"text-align: right;\">\n",
       "      <th></th>\n",
       "      <th>N</th>\n",
       "      <th>Value</th>\n",
       "      <th>Absolute error</th>\n",
       "    </tr>\n",
       "  </thead>\n",
       "  <tbody>\n",
       "    <tr>\n",
       "      <th>0</th>\n",
       "      <td>10</td>\n",
       "      <td>24.659341</td>\n",
       "      <td>5.340659</td>\n",
       "    </tr>\n",
       "    <tr>\n",
       "      <th>1</th>\n",
       "      <td>100</td>\n",
       "      <td>29.304332</td>\n",
       "      <td>0.695668</td>\n",
       "    </tr>\n",
       "    <tr>\n",
       "      <th>2</th>\n",
       "      <td>1000</td>\n",
       "      <td>29.928251</td>\n",
       "      <td>0.071749</td>\n",
       "    </tr>\n",
       "    <tr>\n",
       "      <th>3</th>\n",
       "      <td>10000</td>\n",
       "      <td>29.992803</td>\n",
       "      <td>0.007197</td>\n",
       "    </tr>\n",
       "    <tr>\n",
       "      <th>4</th>\n",
       "      <td>100000</td>\n",
       "      <td>29.999280</td>\n",
       "      <td>0.000720</td>\n",
       "    </tr>\n",
       "  </tbody>\n",
       "</table>\n",
       "</div>"
      ],
      "text/plain": [
       "        N      Value  Absolute error\n",
       "0      10  24.659341        5.340659\n",
       "1     100  29.304332        0.695668\n",
       "2    1000  29.928251        0.071749\n",
       "3   10000  29.992803        0.007197\n",
       "4  100000  29.999280        0.000720"
      ]
     },
     "execution_count": 17,
     "metadata": {},
     "output_type": "execute_result"
    }
   ],
   "source": [
    "import numpy as np\n",
    "import pandas as pd\n",
    "import matplotlib.pyplot as plt\n",
    "\n",
    "def get_partial_sum(N):\n",
    "    array = np.arange(N+1, dtype=float)\n",
    "    return (72.0/(array**2+6*array+8)).sum()\n",
    "\n",
    "N = [10, 100, 1000, 10000, 100000]\n",
    "sum_array = []\n",
    "abs_error_array = []\n",
    "\n",
    "answer = 30.0\n",
    "for n in N:\n",
    "    S = get_partial_sum(n)\n",
    "    sum_array.append(S)\n",
    "    abs_error_array.append(answer - S)\n",
    "    \n",
    "import pandas as pd\n",
    "data = pd.DataFrame(list(zip(N, sum_array, abs_error_array)), columns=[\"N\",\"Value\",\"Absolute error\"])\n",
    "data"
   ]
  },
  {
   "cell_type": "markdown",
   "metadata": {},
   "source": [
    "Значащую цифру числа называют верной, если абсолютная погрешность числа не превосходит единицы\n",
    "разряда, соответствующего этой цифре. Найдем количество верных цифр и построим гитограмму."
   ]
  },
  {
   "cell_type": "code",
   "execution_count": 60,
   "metadata": {},
   "outputs": [
    {
     "name": "stdout",
     "output_type": "stream",
     "text": [
      "        N      Value  Deviation  Right digits\n",
      "0      10  24.659341   5.340659             1\n",
      "1     100  29.304332   0.695668             2\n",
      "2    1000  29.928251   0.071749             3\n",
      "3   10000  29.992803   0.007197             4\n",
      "4  100000  29.999280   0.000720             5\n"
     ]
    },
    {
     "data": {
      "image/png": "[encoded data removed]",
      "text/plain": [
       "<Figure size 432x288 with 1 Axes>"
      ]
     },
     "metadata": {
      "needs_background": "light"
     },
     "output_type": "display_data"
    }
   ],
   "source": [
    "right_digits_array = [1, 2, 3, 4, 5]\n",
    "data['Right digits'] = right_digits_array\n",
    "print(data)\n",
    "\n",
    "plt.title('Dependence right digits count from N')\n",
    "plt.ylabel('Right digits count')\n",
    "plt.xlabel('N')\n",
    "plt.bar(range(len(right_digits_array)), right_digits_array)\n",
    "plt.grid()\n",
    "plt.yticks(right_digits_array)\n",
    "plt.xticks(range(5), data.N.values)\n",
    "plt.show()"
   ]
  },
  {
   "cell_type": "markdown",
   "metadata": {},
   "source": [
    "#### Задача 1.8\n",
    "Составить программу, моделирующую вычисления на ЭВМ с ограниченной разрядностью $m$. Решить задачу 1.1 для случая $N = 10000$, используя эту программу. Составить график зависимости погрешности от количества разрядов $m = 4, 5, \\dots, 8$"
   ]
  },
  {
   "cell_type": "code",
   "execution_count": 6,
   "metadata": {},
   "outputs": [
    {
     "data": {
      "image/png": "[encoded data removed]",
      "text/plain": [
       "<Figure size 432x288 with 1 Axes>"
      ]
     },
     "metadata": {
      "needs_background": "light"
     },
     "output_type": "display_data"
    }
   ],
   "source": [
    "def get_partial_sum_m(N, m):\n",
    "    array = np.arange(N+1, dtype=float)\n",
    "    seq = np.around(72.0/(array**2+6*array+8), m)\n",
    "    S = 0.0\n",
    "    for i in seq:\n",
    "        S = np.around(S + i, m) \n",
    "    return S\n",
    "\n",
    "N = 100000\n",
    "m_array = np.arange(4, 9)\n",
    "abs_errors_array = []\n",
    "for m in m_array:\n",
    "    abs_errors_array.append(answer - get_partial_sum_m(N, m))\n",
    "    \n",
    "plt.title('Dependence absolute error from m')\n",
    "plt.ylabel('Absolute error')\n",
    "plt.xlabel('m')\n",
    "plt.plot(m_array, abs_errors_array)\n",
    "plt.xticks(m_array)\n",
    "plt.grid()"
   ]
  },
  {
   "cell_type": "markdown",
   "metadata": {},
   "source": [
    "#### Задача 1.2.2\n",
    "\n",
    "Дана матрица $A = \\begin{pmatrix} a_{11} & a_{12} & a_{13}\\\\ a_{21} & a_{22} & a_{23}\\\\ a_{31} & a_{32} & a_{33}\\\\ \\end{pmatrix}$. В каждый из диагональных элементов матрицы A по очереди внести погрешность в 1%. Как изменился определитель матрицы А? Указать количество верных цифр и вычислить величину относительной погрешности определителя в каждом случае.\n",
    "$$A = \\begin{pmatrix} 30 & 34 & 19 \\\\ 314 & 354 & 200 \\\\ 2 & 8 & 13 \\end{pmatrix}$$"
   ]
  },
  {
   "cell_type": "code",
   "execution_count": 15,
   "metadata": {},
   "outputs": [
    {
     "name": "stdout",
     "output_type": "stream",
     "text": [
      "Original determinant -851.9999999999853\n"
     ]
    },
    {
     "data": {
      "text/html": [
       "<div>\n",
       "<style scoped>\n",
       "    .dataframe tbody tr th:only-of-type {\n",
       "        vertical-align: middle;\n",
       "    }\n",
       "\n",
       "    .dataframe tbody tr th {\n",
       "        vertical-align: top;\n",
       "    }\n",
       "\n",
       "    .dataframe thead th {\n",
       "        text-align: right;\n",
       "    }\n",
       "</style>\n",
       "<table border=\"1\" class=\"dataframe\">\n",
       "  <thead>\n",
       "    <tr style=\"text-align: right;\">\n",
       "      <th></th>\n",
       "      <th>Determinant</th>\n",
       "      <th>Relative error</th>\n",
       "      <th>Absolute error</th>\n",
       "    </tr>\n",
       "  </thead>\n",
       "  <tbody>\n",
       "    <tr>\n",
       "      <th>0</th>\n",
       "      <td>48.60</td>\n",
       "      <td>1.057042</td>\n",
       "      <td>900.60</td>\n",
       "    </tr>\n",
       "    <tr>\n",
       "      <th>1</th>\n",
       "      <td>394.08</td>\n",
       "      <td>1.462535</td>\n",
       "      <td>1246.08</td>\n",
       "    </tr>\n",
       "    <tr>\n",
       "      <th>2</th>\n",
       "      <td>-859.28</td>\n",
       "      <td>0.008545</td>\n",
       "      <td>7.28</td>\n",
       "    </tr>\n",
       "  </tbody>\n",
       "</table>\n",
       "</div>"
      ],
      "text/plain": [
       "   Determinant  Relative error  Absolute error\n",
       "0        48.60        1.057042          900.60\n",
       "1       394.08        1.462535         1246.08\n",
       "2      -859.28        0.008545            7.28"
      ]
     },
     "execution_count": 15,
     "metadata": {},
     "output_type": "execute_result"
    }
   ],
   "source": [
    "A = np.array([[30, 34, 19],\n",
    "              [314, 354, 200],\n",
    "              [2, 8, 13]], dtype=np.float)\n",
    "\n",
    "det = np.linalg.det(A)\n",
    "\n",
    "new_dets_arr = []\n",
    "rel_errors_arr = []\n",
    "abs_errors_arr = []\n",
    "\n",
    "for i in range(len(A)):\n",
    "    A_copy = A.copy()\n",
    "    A_copy[i,i] *= 1.01\n",
    "    new_det = np.linalg.det(A_copy)\n",
    "    abs_error = np.abs(det - new_det)\n",
    "    rel_error = abs_error / np.abs(det)\n",
    "    new_dets_arr.append(new_det)\n",
    "    rel_errors_arr.append(rel_error)\n",
    "    abs_errors_arr.append(abs_error)\n",
    "    \n",
    "print(\"Original determinant {}\".format(det))\n",
    "data = pd.DataFrame({\n",
    "    'Determinant': new_dets_arr,\n",
    "    'Relative error': rel_errors_arr,\n",
    "    'Absolute error': abs_errors_arr\n",
    "})\n",
    "data"
   ]
  },
  {
   "cell_type": "code",
   "execution_count": 16,
   "metadata": {},
   "outputs": [
    {
     "data": {
      "text/html": [
       "<div>\n",
       "<style scoped>\n",
       "    .dataframe tbody tr th:only-of-type {\n",
       "        vertical-align: middle;\n",
       "    }\n",
       "\n",
       "    .dataframe tbody tr th {\n",
       "        vertical-align: top;\n",
       "    }\n",
       "\n",
       "    .dataframe thead th {\n",
       "        text-align: right;\n",
       "    }\n",
       "</style>\n",
       "<table border=\"1\" class=\"dataframe\">\n",
       "  <thead>\n",
       "    <tr style=\"text-align: right;\">\n",
       "      <th></th>\n",
       "      <th>Determinant</th>\n",
       "      <th>Relative error</th>\n",
       "      <th>Absolute error</th>\n",
       "      <th>Right digits count</th>\n",
       "    </tr>\n",
       "  </thead>\n",
       "  <tbody>\n",
       "    <tr>\n",
       "      <th>0</th>\n",
       "      <td>48.60</td>\n",
       "      <td>1.057042</td>\n",
       "      <td>900.60</td>\n",
       "      <td>0</td>\n",
       "    </tr>\n",
       "    <tr>\n",
       "      <th>1</th>\n",
       "      <td>394.08</td>\n",
       "      <td>1.462535</td>\n",
       "      <td>1246.08</td>\n",
       "      <td>0</td>\n",
       "    </tr>\n",
       "    <tr>\n",
       "      <th>2</th>\n",
       "      <td>-859.28</td>\n",
       "      <td>0.008545</td>\n",
       "      <td>7.28</td>\n",
       "      <td>2</td>\n",
       "    </tr>\n",
       "  </tbody>\n",
       "</table>\n",
       "</div>"
      ],
      "text/plain": [
       "   Determinant  Relative error  Absolute error  Right digits count\n",
       "0        48.60        1.057042          900.60                   0\n",
       "1       394.08        1.462535         1246.08                   0\n",
       "2      -859.28        0.008545            7.28                   2"
      ]
     },
     "execution_count": 16,
     "metadata": {},
     "output_type": "execute_result"
    }
   ],
   "source": [
    "right_digits_arr = [0, 0, 2]\n",
    "data['Right digits count'] = right_digits_arr\n",
    "data"
   ]
  },
  {
   "cell_type": "markdown",
   "metadata": {},
   "source": [
    "#### Задание 1.6\n",
    "Для пакета MATHCAD найти значения машинного нуля, машинной бесконечности, машинного эпсилон. Здесь использовал Matlab.\n",
    "Скрипт main.m прилагается.\n",
    "\n",
    "Вывод:  \n",
    "Single precision machine zero: 1.401298e-45  \n",
    "Double precision machine zero: 4.940656e-324  \n",
    "Single precision machine infinity: 1.701412e+38  \n",
    "Double precision machine infinity: 8.988466e+307  \n",
    "Single precision machine epsilon: 1.192093e-07  \n",
    "Double precision machine epsilon: 2.220446e-16  "
   ]
  },
  {
   "cell_type": "markdown",
   "metadata": {},
   "source": [
    "#### Задание 1.7\n",
    "Вычислить значения машинного нуля, машинной бесконечности, машинного эпсилон в режимах одинарной и двойной точности на алгоритмическом языке Python. Сравнить результаты с результатами задачи 1.6."
   ]
  },
  {
   "cell_type": "code",
   "execution_count": 48,
   "metadata": {},
   "outputs": [
    {
     "name": "stdout",
     "output_type": "stream",
     "text": [
      "Single precision machine zero: 1.401298464324817e-45\n",
      "Double precision machine zero: 5e-324\n",
      "Single precision machine infinity: 1.7014118346046923e+38\n",
      "Double precision machine infinity: 8.98846567431158e+307\n",
      "Single precision machine epsilon: 1.1920928955078125e-07\n",
      "Double precision machine epsilon: 2.220446049250313e-16\n"
     ]
    }
   ],
   "source": [
    "def machine_zero(float_type):\n",
    "    i = 0\n",
    "    number = 1\n",
    "    while float_type(number) != 0:\n",
    "        number /= 2\n",
    "        i += 1\n",
    "    return 2 ** (1 - i)\n",
    "\n",
    "def machine_infinity(float_type):\n",
    "    i = 0\n",
    "    number = 1\n",
    "    while float_type(number) != np.inf:\n",
    "        number = 2.0 * number\n",
    "        i += 1\n",
    "    return 2.0 ** (i - 1)\n",
    "\n",
    "def machine_epsilon(float_type):\n",
    "    i = 0\n",
    "    number = 1\n",
    "    while float_type(1.0 + number) != 1.0:\n",
    "        number /= 2\n",
    "        i += 1\n",
    "    return 2 ** (1 - i)\n",
    "\n",
    "print('Single precision machine zero: {}'.format(machine_zero(np.float32)))\n",
    "print('Double precision machine zero: {}'.format(machine_zero(np.float64)))\n",
    "print('Single precision machine infinity: {}'.format(machine_infinity(np.float32)))\n",
    "print('Double precision machine infinity: {}'.format(machine_infinity(np.float64)))\n",
    "print('Single precision machine epsilon: {}'.format(machine_epsilon(np.float32)))\n",
    "print('Double precision machine epsilon: {}'.format(machine_epsilon(np.float64)))"
   ]
  },
  {
   "cell_type": "markdown",
   "metadata": {},
   "source": [
    "Результаты совпали"
   ]
  },
  {
   "cell_type": "markdown",
   "metadata": {},
   "source": [
    "#### Задача 1.10.6\n",
    "Три вектора $a1, a2, a3$ заданы своими координатами в базисе $i, j, k$. Что можно сказать о компланарности этих векторов, если:\n",
    "\n",
    "1) координаты векторов заданы точно;\n",
    "2) координаты векторов заданы приближённо с относительной погрешностью а) $\\delta = \\alpha%$ ; б) $\\delta = \\beta%$.\n",
    "\n",
    "$$ a1=(9, 17, 1)$$\n",
    "$$ a2=(27, 35, -18)$$\n",
    "$$ a3=(6, 14, 4)$$\n",
    "$$ \\alpha=0.5, \\beta=0.1$$\n",
    "\n",
    "Критерий компланарности: три вектора компланарны тогда и только тогда, когда определитель матрицы, составленный из их координат равен нулю.\n",
    "Определитель как функция на компакте имеет максимум и минимум на границе компакта."
   ]
  },
  {
   "cell_type": "code",
   "execution_count": 84,
   "metadata": {},
   "outputs": [
    {
     "name": "stdout",
     "output_type": "stream",
     "text": [
      "1) Original determinant 23.999999999999908\n",
      "2)\n",
      "\n",
      "Relative error 0.005. Determinant is possible to be 0. m=-53.83750500000033, M=101.92270500000025\n",
      "Relative error 0.001. Determinant is not possible to be 0. m=8.42570315999993, M=39.577704839999946\n"
     ]
    }
   ],
   "source": [
    "import itertools\n",
    "\n",
    "A = np.array([[9, 17, 1],\n",
    "              [27, 35, -18],\n",
    "              [6, 14, 4]], dtype=np.float)\n",
    "\n",
    "det = np.linalg.det(A)\n",
    "print(\"1) Original determinant {}\".format(det))\n",
    "\n",
    "def det_with_error(max_relative_error):\n",
    "    m = A.shape[0]\n",
    "    n = A.shape[1]\n",
    "\n",
    "    min_det = machine_infinity(np.float64)\n",
    "    max_det = -machine_infinity(np.float64)\n",
    "    for binary_vec in itertools.product([0, 1], repeat=m*n):\n",
    "        eps_matrix = np.array(binary_vec)\n",
    "        eps_matrix[eps_matrix == 0] = -1\n",
    "        eps_matrix = eps_matrix * max_relative_error\n",
    "        eps_matrix = eps_matrix.reshape(A.shape)\n",
    "     \n",
    "        det = np.linalg.det(A+eps_matrix*A)\n",
    "        if (det > max_det):\n",
    "            max_det = det\n",
    "        if (det < min_det):\n",
    "            min_det = det\n",
    "    return min_det, max_det\n",
    "\n",
    "print(\"2)\\n\")\n",
    "for d in [0.005, 0.001]:\n",
    "    m, M = det_with_error(d)\n",
    "    if (0 < M and m < 0):\n",
    "        print(\"Relative error {}. Determinant is possible to be 0. m={}, M={}\".format(d, m, M))\n",
    "    else:\n",
    "        print(\"Relative error {}. Determinant is not possible to be 0. m={}, M={}\".format(d, m, M))"
   ]
  },
  {
   "cell_type": "markdown",
   "metadata": {},
   "source": [
    "Когда координаты заданы точно - вектора не компланарны. Когда погрешность 0.005 - могут быть компланарны а могут и нет. Когда относительная погрешность 0.001 - всегда не компланарны."
   ]
  },
  {
   "cell_type": "code",
   "execution_count": null,
   "metadata": {},
   "outputs": [],
   "source": []
  }
 ],
 "metadata": {
  "kernelspec": {
   "display_name": "Python 3",
   "language": "python",
   "name": "python3"
  },
  "language_info": {
   "codemirror_mode": {
    "name": "ipython",
    "version": 3
   },
   "file_extension": ".py",
   "mimetype": "text/x-python",
   "name": "python",
   "nbconvert_exporter": "python",
   "pygments_lexer": "ipython3",
   "version": "3.7.3"
  }
 },
 "nbformat": 4,
 "nbformat_minor": 2
}
