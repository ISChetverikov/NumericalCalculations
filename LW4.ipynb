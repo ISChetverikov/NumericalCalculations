{
 "cells": [
  {
   "cell_type": "markdown",
   "metadata": {},
   "source": [
    "## Лабораторная работа 3\n",
    "\n",
    "### Решение систем линейных алгебраических уравнений прямыми методами. Теория возмущений\n",
    "\n",
    "Вариант 29 (3.1.29, 3.3.8, 3.8.6)\n",
    "БПМ 171 Четвериков Илья Сергеевич"
   ]
  },
  {
   "cell_type": "code",
   "execution_count": 158,
   "metadata": {},
   "outputs": [],
   "source": [
    "import numpy as np\n",
    "np.set_printoptions(suppress=True)\n",
    "N = 29"
   ]
  },
  {
   "cell_type": "markdown",
   "metadata": {},
   "source": [
    "### Задача 3.1.29\n",
    "\n",
    "Дана система уравнений $Ax=b$ порядка $n$. Исследовать зависимость погрешности решения $x$ от погрешности правой части системы $b$.\n",
    "\n",
    "1) Задание матрицы системы $A$ и вектора правой части $b$. Решение системы с помощью numpy.linalg.solve."
   ]
  },
  {
   "cell_type": "code",
   "execution_count": 159,
   "metadata": {},
   "outputs": [
    {
     "name": "stdout",
     "output_type": "stream",
     "text": [
      "Matrix A:\n",
      "[[0.27535542 0.08581216 0.0351431  0.01711541 0.00943763 0.00569993]\n",
      " [0.08581216 0.01711541 0.00569993 0.00251373 0.00131463 0.00076975]\n",
      " [0.0351431  0.00569993 0.00178735 0.00076975 0.00039795 0.00023152]\n",
      " [0.01711541 0.00251373 0.00076975 0.00032859 0.00016917 0.00009819]\n",
      " [0.00943763 0.00131463 0.00039795 0.00016917 0.00008692 0.0000504 ]\n",
      " [0.00569993 0.00076975 0.00023152 0.00009819 0.0000504  0.0000292 ]]\n",
      "Vector b\n",
      "[29. 29. 29. 29. 29. 29.]\n",
      "Solution x:\n",
      "[ 4.64242661e+06 -3.31513817e+09  1.63253281e+11 -1.63443017e+12\n",
      "  4.81318758e+12 -4.01850302e+12]\n"
     ]
    }
   ],
   "source": [
    "n = 6\n",
    "c = lambda i, j: 0.1 * N * (i + 1) * (j + 1)\n",
    "a = lambda x: 10/(0.3 * x ** 3 + 10 * x)\n",
    "\n",
    "A = np.empty([n, n])\n",
    "b = np.empty(n)\n",
    "b.fill(N)\n",
    "for i in range(n):\n",
    "    for j in range(n):\n",
    "        A[i,j] = a(c(i, j))\n",
    "\n",
    "print(\"Matrix A:\")\n",
    "print(A)\n",
    "print(\"Vector b\")\n",
    "print(b)\n",
    "\n",
    "x = np.linalg.solve(A, b)\n",
    "print(\"Solution x:\")\n",
    "print(x)"
   ]
  },
  {
   "cell_type": "markdown",
   "metadata": {},
   "source": [
    "2) Нахождение числа обусловленности матрицы A"
   ]
  },
  {
   "cell_type": "code",
   "execution_count": 160,
   "metadata": {},
   "outputs": [
    {
     "name": "stdout",
     "output_type": "stream",
     "text": [
      "Число обусловленности матрицы A:\n",
      "1107408330293.653\n"
     ]
    }
   ],
   "source": [
    "cond = np.linalg.cond(A, p=np.inf)\n",
    "print(\"Число обусловленности матрицы A:\")\n",
    "print(cond)"
   ]
  },
  {
   "cell_type": "markdown",
   "metadata": {},
   "source": [
    "3) Нахождение относительных погрешностей решения $x^i$ системы $Ax^i=b^i$ при внесении погрешностей в каждую координату вектора $b$. Величина погрешности $\\Delta=0.5$"
   ]
  },
  {
   "cell_type": "code",
   "execution_count": 161,
   "metadata": {},
   "outputs": [
    {
     "name": "stdout",
     "output_type": "stream",
     "text": [
      "Погрешности решения при внесении погрешности в каждую координату вектора правой части:\n",
      "[0.0000001  0.00008141 0.00408244 0.04113757 0.12151134 0.10161628]\n"
     ]
    }
   ],
   "source": [
    "delta = 0.5\n",
    "d = np.empty(n)\n",
    "b_err = np.empty(n)\n",
    "\n",
    "for i in range(n):\n",
    "    b_i = b.copy()\n",
    "    b_i[i] += delta\n",
    "    x_i = np.linalg.solve(A, b_i)\n",
    "    \n",
    "    d[i] = np.linalg.norm(x - x_i, ord=np.inf) / np.linalg.norm(x, ord=np.inf)\n",
    "    b_err[i] = np.linalg.norm(b - b_i, ord=np.inf) / np.linalg.norm(b, ord=np.inf)\n",
    "    \n",
    "print(\"Погрешности решения при внесении погрешности в каждую координату вектора правой части:\")\n",
    "print(d)"
   ]
  },
  {
   "cell_type": "markdown",
   "metadata": {},
   "source": [
    "4) Определение компоненты вектора правой части, оказывающие наибольщее влияние на решение"
   ]
  },
  {
   "cell_type": "code",
   "execution_count": 162,
   "metadata": {},
   "outputs": [
    {
     "name": "stdout",
     "output_type": "stream",
     "text": [
      "4\n"
     ]
    }
   ],
   "source": [
    "m = np.argmax(d) # from 0\n",
    "print(m)"
   ]
  },
  {
   "cell_type": "markdown",
   "metadata": {},
   "source": [
    "5) Оценка теоретической погрешности по формуле $\\delta(x^{m}) \\leq cond(A) \\cdot \\delta(b^{m})$. Сравнение с практической погрешностью"
   ]
  },
  {
   "cell_type": "code",
   "execution_count": 163,
   "metadata": {},
   "outputs": [
    {
     "name": "stdout",
     "output_type": "stream",
     "text": [
      "Граница теоретической погрешности:\n",
      "19093247074.0285\n",
      "Практическая погрешность:\n",
      "0.12151133663079662\n"
     ]
    }
   ],
   "source": [
    "print(\"Граница теоретической погрешности:\")\n",
    "print(cond * b_err[m])\n",
    "print(\"Практическая погрешность:\")\n",
    "print(d[m])"
   ]
  },
  {
   "cell_type": "markdown",
   "metadata": {},
   "source": [
    "Вывод: максимальная теоретическая погрешность на несколько порядков больше полученной практической. Это объясняется большим числом обусловленности матрицы A, много большим единицы."
   ]
  },
  {
   "cell_type": "markdown",
   "metadata": {},
   "source": [
    "### Задача 3.3.8\n",
    "Дана матрица A. Найти число обусловленности матрицы, используя вычислительный эксперимент."
   ]
  },
  {
   "cell_type": "markdown",
   "metadata": {},
   "source": [
    "1) Решить $k$ систем уравнений $Ax^i=b^i$,система векторов $b^i$ линейно независима  \n",
    "2) Найти отношение $\\frac{\\|x^i\\|}{\\|b^i\\|}$ для каждого $i \\in 1,..,k$\n",
    "3) Найти приближение нормы обратной матрицы $\\|A^{-1}\\|\\approx \\max_{1<i<k}\\frac{\\|x^i\\|}{\\|b^i\\|}$   \n",
    "4) Найти приближение числа обусловленности матрицы $A$: $cond(A)\\approx\\|A^{-1}\\|\\|A\\|$"
   ]
  },
  {
   "cell_type": "code",
   "execution_count": 164,
   "metadata": {},
   "outputs": [
    {
     "name": "stdout",
     "output_type": "stream",
     "text": [
      "Ранг системы векторов b_i:\n",
      "4\n",
      "Число обусловленности:\n",
      "Найденное заданным приближением: 147.0986842105263.\n",
      "Найденное встроенной функцией: 216.73684210526315.\n"
     ]
    }
   ],
   "source": [
    "A = np.array([[1, 1, 1, 1],\n",
    "[1, 2, 3, 4],\n",
    "[1, 3, 6, 10],\n",
    "[1, 4, 4, 20]])\n",
    "k = 4 # максимум линейно независимых векторов\n",
    "b_arr = np.array([[38, 28, -45, 34],\n",
    "                  [4, 5, 6, 7],\n",
    "                  [6, -5, 7, 8],\n",
    "                  [0, 4, 20, 34]])\n",
    "print(\"Ранг системы векторов b_i:\")\n",
    "print(np.linalg.matrix_rank(b_arr)) # проверка что вектора линейно независимы\n",
    "\n",
    "A_inv_norm = 0\n",
    "for b_i in b_arr:\n",
    "    x_i = np.linalg.solve(A, b_i)\n",
    "    ratio = np.linalg.norm(x_i, ord=np.inf) / np.linalg.norm(b_i, ord=np.inf)\n",
    "    if ratio > A_inv_norm:\n",
    "        A_inv_norm = ratio\n",
    "        \n",
    "A_norm = np.linalg.norm(A, ord=np.inf)\n",
    "cond_app = A_inv_norm * A_norm\n",
    "print(\"Число обусловленности:\")\n",
    "print(\"Найденное заданным приближением: {}.\".format(cond_app))\n",
    "print(\"Найденное встроенной функцией: {}.\".format(np.linalg.cond(A, p=np.inf)))"
   ]
  },
  {
   "cell_type": "markdown",
   "metadata": {},
   "source": [
    "### Задача 3.8.6\n",
    "\n",
    "Дана система уравнений $Az(x)=b(x)$ порядка $n$. Построить график функции $y(x)=\\sum_{i=1}^n z_i(x)$ на отрезке $[a, b]$ здесь $z(x)=(z_1(x), ..., z_n(x))^T$ - решение системы. Для решения системы уравнений использовать метод Гаусса (схема полного выбора).\n",
    "\n",
    "#### Тестовый пример\n",
    "$ x + 2y = 1, -x+2y = 3 => (x, y) = (-1, 1) $"
   ]
  },
  {
   "cell_type": "code",
   "execution_count": 165,
   "metadata": {},
   "outputs": [
    {
     "name": "stdout",
     "output_type": "stream",
     "text": [
      "Solution of the test:\n",
      "[-1.  1.]\n"
     ]
    },
    {
     "data": {
      "image/png": "[encoded data removed]",
      "text/plain": [
       "<Figure size 432x288 with 1 Axes>"
      ]
     },
     "metadata": {
      "needs_background": "light"
     },
     "output_type": "display_data"
    }
   ],
   "source": [
    "import matplotlib.pyplot as plt\n",
    "%matplotlib inline\n",
    "\n",
    "M = 6\n",
    "n = 100\n",
    "\n",
    "a = -5\n",
    "b = 5\n",
    "\n",
    "q = lambda M: 1.001 - 2 * M * 0.001\n",
    "\n",
    "A = np.empty([n, n])\n",
    "for i in range(n):\n",
    "    for j in range(n):\n",
    "        if i == j:\n",
    "            A[i,j] = (q(M) - 1) ** (i + j + 2)\n",
    "        else:\n",
    "            A[i,j] = q(M) ** (i + j + 2) + 0.1 * (j - i)\n",
    "            \n",
    "def b_func(x, n):\n",
    "    b = np.empty(n)\n",
    "    for i in range(n):\n",
    "        b[i] =  x * np.exp(x / (i+1) ) * np.cos(x / (i + 1) )\n",
    "    return b\n",
    "\n",
    "# Метод полного выбора.\n",
    "# На очередном шаге для исключения переменного выбираем максимальный элемент в оставшейся подматрице\n",
    "def solve_gauss(A, b):\n",
    "    A_ = A.copy()\n",
    "    b_ = b.copy()\n",
    "    cols = []\n",
    "    for j in range(A_.shape[1]):\n",
    "        \n",
    "        subA = abs(A_[j:,:])\n",
    "        ind = np.unravel_index(np.argmax(subA, axis=None), subA.shape)\n",
    "        cols.append(ind[1])\n",
    "        if 0 != ind[0]:\n",
    "            A_[[j, j + ind[0]]] = A_[[j + ind[0], j]]\n",
    "            b_[[j, j + ind[0]]] = b_[[j + ind[0], j]]\n",
    "        \n",
    "        norm = A_[j, ind[1]]\n",
    "        A_[j] = A_[j] / norm\n",
    "        b_[j] = b_[j] / norm\n",
    "        \n",
    "        for i in range(j+1, A_.shape[0]):\n",
    "            q = A_[i, ind[1]]\n",
    "            A_[i] = A_[i] - q * A_[j]\n",
    "            b_[i] = b_[i] - q * b_[j]\n",
    "        \n",
    "    x = np.zeros_like(b)\n",
    "    it = A_.shape[0]-1\n",
    "    \n",
    "    for j in cols[::-1]:    \n",
    "        x[j] = b_[it]\n",
    "        for i in range(it):\n",
    "            q = A_[i, j]\n",
    "            A_[i] = A_[i] - q * A_[it]\n",
    "            b_[i] = b_[i] - q * b_[it]\n",
    "        it -= 1\n",
    "        \n",
    "    return x\n",
    "\n",
    "# Решение тестового примера\n",
    "T = np.array([[1,2], [-1,2]], dtype=float)\n",
    "t = np.array([1, 3], dtype=float)\n",
    "d = solve_gauss(T, t)\n",
    "print(\"Solution of the test:\")\n",
    "print(d)\n",
    "\n",
    "ab = np.linspace(a, b, n)\n",
    "result = np.empty(len(ab))\n",
    "for i in range(len(ab)):\n",
    "    z = solve_gauss(A, b_func(ab[i], n))\n",
    "    result[i] = z.sum()\n",
    "    \n",
    "plt.plot(ab, result, '-', lw=2)\n",
    "plt.grid(True)\n",
    "plt.title(\"Plot y(x)\");\n",
    "plt.xlabel(\"x\");\n",
    "plt.ylabel(\"y\");"
   ]
  },
  {
   "cell_type": "code",
   "execution_count": null,
   "metadata": {},
   "outputs": [],
   "source": []
  },
  {
   "cell_type": "code",
   "execution_count": null,
   "metadata": {},
   "outputs": [],
   "source": []
  },
  {
   "cell_type": "code",
   "execution_count": null,
   "metadata": {},
   "outputs": [],
   "source": []
  }
 ],
 "metadata": {
  "kernelspec": {
   "display_name": "Python 3",
   "language": "python",
   "name": "python3"
  },
  "language_info": {
   "codemirror_mode": {
    "name": "ipython",
    "version": 3
   },
   "file_extension": ".py",
   "mimetype": "text/x-python",
   "name": "python",
   "nbconvert_exporter": "python",
   "pygments_lexer": "ipython3",
   "version": "3.7.3"
  }
 },
 "nbformat": 4,
 "nbformat_minor": 2
}
