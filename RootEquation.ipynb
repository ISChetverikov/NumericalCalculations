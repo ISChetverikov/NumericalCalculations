{
 "cells": [
  {
   "cell_type": "code",
   "execution_count": 2,
   "metadata": {},
   "outputs": [],
   "source": [
    "import numpy as np\n",
    "import math \n",
    "%matplotlib inline\n",
    "import matplotlib.pyplot as plt\n",
    "\n",
    "from sympy import diff, symbols, lambdify, exp\n",
    "x_ = symbols('x')\n",
    "\n",
    "def get_f(f_sym):\n",
    "    f = lambdify(x_, f_sym)\n",
    "    return f\n",
    "\n",
    "def get_df(f_sym):\n",
    "    df_sym = diff(f_sym)\n",
    "    df = lambdify(x_, df_sym)\n",
    "    return df\n",
    "\n",
    "def bisec(f, a, b, e):\n",
    "    a_n = a\n",
    "    b_n = b\n",
    "    k = 0\n",
    "    \n",
    "    while abs(b_n-a_n)> e:\n",
    "        k+=1\n",
    "        x_n = (a_n+b_n)/2.0\n",
    "        a_n, b_n = (a_n, x_n) if f(a_n) * f(x_n) < 0 else (x_n, b_n)\n",
    "        \n",
    "    return (a_n+b_n)/2, k\n",
    "\n",
    "def newton(f, df, x_0, e=1e-7, max_iter=1000, m=1):\n",
    "    x_i, x_prev, i = x_0, x_0 + 2*e, 0\n",
    "    \n",
    "    while abs(x_i - x_prev) >= e and i < max_iter:\n",
    "        \n",
    "        d =  df(x_i) if df(x_i) != 0.0 else e\n",
    "        x_i, x_prev, i = x_i - m * f(x_i) / d, x_i, i + 1\n",
    "        \n",
    "    return x_i, i\n",
    "\n",
    "def steff(f, x_0, e=1e-7, max_iter=1000):\n",
    "    x_i, x_prev, i = x_0, x_0 + 2*e, 0\n",
    "    \n",
    "    while abs(x_i - x_prev) >= e and i < max_iter:\n",
    "        h = f(x_i)\n",
    "        d = f(x_i + h) - h  \n",
    "        d = d if d != 0.0 else e\n",
    "        x_i, x_prev, i = x_i - h * h / d, x_i, i + 1\n",
    "        \n",
    "    return x_i, i"
   ]
  },
  {
   "cell_type": "markdown",
   "metadata": {},
   "source": [
    "### Вариант 29\n",
    "##### Задание 2.1.29\n",
    "\n",
    "Даны два уравнения $f(x)=0$ и $g(x)=0$. Найти с точностью $\\epsilon=10^{-10}$ все корни уравнений,\n",
    "содержащиеся на отрезке $[a, b]$. Для решения задачи использовать метод бисекции.\n",
    "$$f(x)=x^4-\\frac{26}{5}x^2+1$$\n",
    "$$g(x)=x^4-10x^2+25$$\n",
    "$$[a,b]=[0,3]$$\n",
    "\n",
    "1. Найти аналитическое решение уравнения $f(x)=0$.\n",
    "2. Локализовать корни $f(x)=0$ графически.\n",
    "3. Найти корни уравнения $f(x)=0$ с точностью $\\epsilon$ с помощью метода бисекции.\n",
    "4. Используя встроенные функции, найти корни уравнения $f(x)=0$ с точностью $\\epsilon$.\n",
    "5. Аналогично п. 1-4 попытаться найти корни уравнения $g(x)=0$. Объяснить полученные результаты.\n",
    "\n",
    "#### Аналитическое решение\n",
    "$$f(x)=x^4-\\frac{26}{5}x^2+1$$\n",
    "$$f(t)=t^2-\\frac{26}{5}t+1$$\n",
    "$$D_1 = (\\frac{13}{5})^2-1=144/25$$\n",
    "$$ t_1 = \\frac{13}{5}+\\frac{12}{5} = 5 $$\n",
    "$$ t_2 = \\frac{13}{5}-\\frac{12}{5} = \\frac{1}{5} $$\n",
    "$$ x_1 = \\sqrt{5}, x_2 = -\\sqrt{5}, x_3 = \\frac{\\sqrt{5}}{5}, x_4 = -\\frac{\\sqrt{5}}{5} $$\n",
    "\n",
    "$$ g(x)=x^4-10x^2+25 $$\n",
    "$$ g(t)=t^2-10t+25 $$\n",
    "$$ D_1 = 25 - 25 = 0, t=5$$\n",
    "$$ x_1 = \\sqrt{5}, x_2 = -\\sqrt{5}$$"
   ]
  },
  {
   "cell_type": "code",
   "execution_count": 3,
   "metadata": {},
   "outputs": [],
   "source": [
    "a = 0\n",
    "b = 3\n",
    "eps = 1e-10\n",
    "\n",
    "f_sym = x_**4-26/5*x_**2+1\n",
    "g_sym = x_**4-10*x_**2+25\n",
    "\n",
    "f = get_f(f_sym)\n",
    "g = get_f(g_sym)"
   ]
  },
  {
   "cell_type": "code",
   "execution_count": 4,
   "metadata": {},
   "outputs": [
    {
     "data": {
      "image/png": "[encoded data removed]",
      "text/plain": [
       "<Figure size 432x288 with 1 Axes>"
      ]
     },
     "metadata": {
      "needs_background": "light"
     },
     "output_type": "display_data"
    }
   ],
   "source": [
    "# локализация корней f(x)\n",
    "x_arr = np.linspace(-3, 3)\n",
    "zeros = np.zeros(50)\n",
    "f_arr = [f(x) for x in x_arr]\n",
    "\n",
    "plt.plot(x_arr, f_arr)\n",
    "plt.plot(x_arr, zeros)\n",
    "plt.title(\"f(x) roots\")\n",
    "plt.xlabel(\"x\")\n",
    "plt.ylabel(\"y\")\n",
    "plt.grid(True)"
   ]
  },
  {
   "cell_type": "code",
   "execution_count": 5,
   "metadata": {},
   "outputs": [
    {
     "name": "stdout",
     "output_type": "stream",
     "text": [
      "First root =  0.44721359547111206\n",
      "Second root =  2.2360679774719756\n"
     ]
    }
   ],
   "source": [
    "# Нахождение корней методом бисекции f(x)\n",
    "print(\"First root = \", bisec(f, a, 1, eps)[0])\n",
    "print(\"Second root = \", bisec(f, 1, b, eps)[0])"
   ]
  },
  {
   "cell_type": "code",
   "execution_count": 6,
   "metadata": {},
   "outputs": [
    {
     "data": {
      "image/png": "[encoded data removed]",
      "text/plain": [
       "<Figure size 432x288 with 1 Axes>"
      ]
     },
     "metadata": {
      "needs_background": "light"
     },
     "output_type": "display_data"
    }
   ],
   "source": [
    "# локализация корней g(x)\n",
    "x_arr = np.linspace(-3, 3)\n",
    "zeros = np.zeros(50)\n",
    "g_arr = [g(x) for x in x_arr]\n",
    "\n",
    "plt.plot(x_arr, g_arr)\n",
    "plt.plot(x_arr, zeros)\n",
    "plt.title(\"f(x) roots\")\n",
    "plt.xlabel(\"x\")\n",
    "plt.ylabel(\"y\")\n",
    "plt.grid(True)"
   ]
  },
  {
   "cell_type": "code",
   "execution_count": 7,
   "metadata": {},
   "outputs": [
    {
     "name": "stdout",
     "output_type": "stream",
     "text": [
      "First root =  2.9999999999563443\n"
     ]
    }
   ],
   "source": [
    "# Нахождение корней методом бисекции g(x)\n",
    "print(\"First root = \", bisec(g, a, b, eps)[0])"
   ]
  },
  {
   "cell_type": "markdown",
   "metadata": {},
   "source": [
    "Для $g(x)$ метод бисекции не отрабатывает, так как все значения функции, за исключением значения в корне, положительны"
   ]
  },
  {
   "cell_type": "markdown",
   "metadata": {},
   "source": [
    "##### Задание 2.6.5\n",
    " Локализовать корни уравнения $f(x)=0$. Найти их с точностью $\\epsilon=10^{-5}$ и $\\epsilon=10^{-12}$, спользуя метод Ньютона и метод, указанный в индивидуальном варианте. Сравнить скорость сходимости методов (по числу итераций) для каждого значения $\\epsilon$.\n",
    " \n",
    "$$ f(x)=e^{-(x+1)}+x^2+2*x-1 $$\n",
    "Метод Стиффенсона"
   ]
  },
  {
   "cell_type": "code",
   "execution_count": 8,
   "metadata": {},
   "outputs": [
    {
     "data": {
      "image/png": "[encoded data removed]",
      "text/plain": [
       "<Figure size 432x288 with 1 Axes>"
      ]
     },
     "metadata": {
      "needs_background": "light"
     },
     "output_type": "display_data"
    }
   ],
   "source": [
    "f1_sym = exp(-(x_+1))+x_**2+2*x_-1\n",
    "f1 = get_f(f1_sym)\n",
    "\n",
    "# локализация корней g(x)\n",
    "x_arr = np.linspace(-3, 3)\n",
    "zeros = np.zeros(50)\n",
    "f1_arr = [f1(x) for x in x_arr]\n",
    "\n",
    "plt.plot(x_arr, f1_arr)\n",
    "plt.plot(x_arr, zeros)\n",
    "plt.title(\"f(x) roots\")\n",
    "plt.xlabel(\"x\")\n",
    "plt.ylabel(\"y\")\n",
    "plt.grid(True)"
   ]
  },
  {
   "cell_type": "code",
   "execution_count": 9,
   "metadata": {},
   "outputs": [
    {
     "name": "stdout",
     "output_type": "stream",
     "text": [
      "Newton Method. E=1e-05, First root=-1.53727, Number of iteration=6\n",
      "Newton Method. E=1e-05, Second root=0.31597, Number of iteration=5\n",
      "Newton Method. E=1e-12, First root=-1.537274449174, Number of iteration=7\n",
      "Newton Method. E=1e-12, Second root=0.315973777796, Number of iteration=6\n",
      "Steffensen Method. E=1e-05, First root=-1.53727, Number of iteration=5\n",
      "Steffensen  Method. E=1e-05, Second root=0.31597, Number of iteration=6\n",
      "Steffensen  Method. E=1e-12, First root=-1.537274449174, Number of iteration=6\n",
      "Steffensen  Method. E=1e-12, Second root=0.315973777796, Number of iteration=7\n"
     ]
    }
   ],
   "source": [
    "eps1 = 1e-5\n",
    "eps2 = 1e-12\n",
    "\n",
    "df1 = get_df(f1_sym)\n",
    "first_root = newton(f1, df1, -1, eps1)\n",
    "print(\"Newton Method. E={}, First root={:.5f}, Number of iteration={}\".format(eps1, first_root[0], first_root[1]))\n",
    "second_root = newton(f1, df1, 1, eps1)\n",
    "print(\"Newton Method. E={}, Second root={:.5f}, Number of iteration={}\".format(eps1, second_root[0], second_root[1]))\n",
    "\n",
    "first_root = newton(f1, df1, -1, eps2)\n",
    "print(\"Newton Method. E={}, First root={:.12f}, Number of iteration={}\".format(eps2, first_root[0], first_root[1]))\n",
    "second_root = newton(f1, df1, 1, eps2)\n",
    "print(\"Newton Method. E={}, Second root={:.12f}, Number of iteration={}\".format(eps2, second_root[0], second_root[1]))\n",
    "\n",
    "first_root = steff(f1, -1, eps1)\n",
    "print(\"Steffensen Method. E={}, First root={:.5f}, Number of iteration={}\".format(eps1, first_root[0], first_root[1]))\n",
    "second_root = steff(f1, 1, eps1)\n",
    "print(\"Steffensen  Method. E={}, Second root={:.5f}, Number of iteration={}\".format(eps1, second_root[0], second_root[1]))\n",
    "\n",
    "first_root = steff(f1, -1, eps2)\n",
    "print(\"Steffensen  Method. E={}, First root={:.12f}, Number of iteration={}\".format(eps2, first_root[0], first_root[1]))\n",
    "second_root = steff(f1, 1, eps2)\n",
    "print(\"Steffensen  Method. E={}, Second root={:.12f}, Number of iteration={}\".format(eps2, second_root[0], second_root[1]))"
   ]
  },
  {
   "cell_type": "markdown",
   "metadata": {},
   "source": [
    "##### Задание 2.9.5\n",
    "a) Локализовать корни уравнения $f(x)=0$. Уточнить их с точностью $ \\epsilon=10^{-7} $, используя метод\n",
    "Ньютона. Для поиска кратного корня и определения его кратности следует использовать модификацию метода\n",
    "Ньютона для случая кратного корня с $m=1,2,3$. При любых ли начальных приближениях такой метод сходится?\n",
    "b) Рассмотреть уравнение $f(x)+\\delta=0$, где $\\delta=10^{-8}$. Найти корень кратности 1, используя метод Ньютона.\n",
    "Применить для нахождения кратного корня соответствующую модификацию* метода Ньютона. Удается ли\n",
    "найти кратный корень? Если нет, то использовать метод Ньютона с комплексными начальными приближениями.\n",
    "Сохранился ли кратный корень? Объяснить результаты.\n",
    "$$f(x)=3x^3-28x^2+80x-64$$\n"
   ]
  },
  {
   "cell_type": "code",
   "execution_count": 10,
   "metadata": {},
   "outputs": [
    {
     "data": {
      "image/png": "[encoded data removed]",
      "text/plain": [
       "<Figure size 432x288 with 1 Axes>"
      ]
     },
     "metadata": {
      "needs_background": "light"
     },
     "output_type": "display_data"
    }
   ],
   "source": [
    "f2_sym = 3*x_**3-28*x_**2+80*x_-64\n",
    "f2 = get_f(f2_sym)\n",
    "\n",
    "# локализация корней f2(x)\n",
    "x_arr = np.linspace(0, 5)\n",
    "zeros = np.zeros(50)\n",
    "f2_arr = [f2(x) for x in x_arr]\n",
    "\n",
    "plt.plot(x_arr, f2_arr)\n",
    "plt.plot(x_arr, zeros)\n",
    "plt.title(\"f2(x) roots\")\n",
    "plt.xlabel(\"x\")\n",
    "plt.ylabel(\"y\")\n",
    "plt.grid(True)"
   ]
  },
  {
   "cell_type": "code",
   "execution_count": 11,
   "metadata": {},
   "outputs": [
    {
     "name": "stdout",
     "output_type": "stream",
     "text": [
      "Newton Method. E=1e-07, First root=1.3333333, Number of iteration=7\n",
      "Newton Method. E=1e-07, Second root=4.0000000, Number of iteration=11\n",
      "Newton Method. E=1e-07, Second root=4.0000001, Number of iteration=40\n"
     ]
    }
   ],
   "source": [
    "eps= 1e-7\n",
    "df2 = get_df(f2_sym)\n",
    "first_root = newton(f2, df2, -1, eps)\n",
    "print(\"Newton Method. E={}, First root={:.7f}, Number of iteration={}\".format(eps, first_root[0], first_root[1]))\n",
    "second_root = newton(f2, df2, 1000, eps, m=2)\n",
    "print(\"Newton Method. E={}, Second root={:.7f}, Number of iteration={}\".format(eps, second_root[0], second_root[1]))\n",
    "second_root = newton(f2, df2, 1000, eps)\n",
    "print(\"Newton Method. E={}, Second root={:.7f}, Number of iteration={}\".format(eps, second_root[0], second_root[1]))"
   ]
  },
  {
   "cell_type": "code",
   "execution_count": 12,
   "metadata": {},
   "outputs": [
    {
     "name": "stdout",
     "output_type": "stream",
     "text": [
      "Newton Method. E=1e-07, First root=1.3333333, Number of iteration=7\n",
      "Newton Method. E=1e-07, Second root=3.9999943, Number of iteration=1000\n"
     ]
    }
   ],
   "source": [
    "delta = 1e-8\n",
    "f2_d = get_f(f2_sym+delta)\n",
    "df2_d = get_df(f2_sym+delta)\n",
    "first_root = newton(f2_d, df2_d, -1, eps)\n",
    "print(\"Newton Method. E={}, First root={:.7f}, Number of iteration={}\".format(eps, first_root[0], first_root[1]))\n",
    "second_root = newton(f2_d, df2_d, 3, eps, m=2)\n",
    "print(\"Newton Method. E={}, Second root={:.7f}, Number of iteration={}\".format(eps, second_root[0], second_root[1]))"
   ]
  },
  {
   "cell_type": "code",
   "execution_count": 13,
   "metadata": {},
   "outputs": [
    {
     "name": "stdout",
     "output_type": "stream",
     "text": [
      "Newton Method. E=1e-07, Second root=4.0000310-0.0000846j, Number of iteration=1000\n"
     ]
    }
   ],
   "source": [
    "\n",
    "second_root = newton(f2_d, df2_d, complex(3,3), eps, m=2)\n",
    "print(\"Newton Method. E={}, Second root={:.7f}, Number of iteration={}\".format(eps, second_root[0], second_root[1]))\n"
   ]
  },
  {
   "cell_type": "code",
   "execution_count": 14,
   "metadata": {},
   "outputs": [
    {
     "name": "stdout",
     "output_type": "stream",
     "text": [
      "Newton Method. E=1e-07, Second root=4.0000000+0.0000354j, Number of iteration=22\n"
     ]
    }
   ],
   "source": [
    "\n",
    "second_root = newton(f2_d, df2_d, complex(3,3), eps)\n",
    "print(\"Newton Method. E={}, Second root={:.7f}, Number of iteration={}\".format(eps, second_root[0], second_root[1]))"
   ]
  },
  {
   "cell_type": "code",
   "execution_count": 15,
   "metadata": {},
   "outputs": [
    {
     "name": "stdout",
     "output_type": "stream",
     "text": [
      "Newton Method. E=1e-07, Second root=4.0000000-0.0000354j, Number of iteration=22\n"
     ]
    }
   ],
   "source": [
    "second_root = newton(f2_d, df2_d, complex(3,-3), eps)\n",
    "print(\"Newton Method. E={}, Second root={:.7f}, Number of iteration={}\".format(eps, second_root[0], second_root[1]))"
   ]
  },
  {
   "cell_type": "code",
   "execution_count": null,
   "metadata": {},
   "outputs": [],
   "source": []
  }
 ],
 "metadata": {
  "kernelspec": {
   "display_name": "Python 3",
   "language": "python",
   "name": "python3"
  },
  "language_info": {
   "codemirror_mode": {
    "name": "ipython",
    "version": 3
   },
   "file_extension": ".py",
   "mimetype": "text/x-python",
   "name": "python",
   "nbconvert_exporter": "python",
   "pygments_lexer": "ipython3",
   "version": "3.7.3"
  }
 },
 "nbformat": 4,
 "nbformat_minor": 2
}
