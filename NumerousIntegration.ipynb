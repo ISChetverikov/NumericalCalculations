{
 "cells": [
  {
   "cell_type": "code",
   "execution_count": 16,
   "metadata": {},
   "outputs": [],
   "source": [
    "import numpy as np\n",
    "from collections import namedtuple"
   ]
  },
  {
   "cell_type": "code",
   "execution_count": 112,
   "metadata": {},
   "outputs": [],
   "source": [
    "CotesMethod = namedtuple('CotesMethod', 'numerators denominator');\n",
    "left_rectangle = CotesMethod([1, 0], None)\n",
    "right_rectangle = CotesMethod([0, 1], None)\n",
    "middle_rectangle = CotesMethod([0, 1, 0], None)\n",
    "trapezium = CotesMethod([1, 1], 2)\n",
    "simpson = CotesMethod([1, 4, 1], 6)\n",
    "cotes3 = CotesMethod([1, 3, 3, 1], 8)\n",
    "cotes4 = CotesMethod([7, 32, 12, 32, 7], 90)\n",
    "cotes5 = CotesMethod([19, 75, 50, 50, 75, 19], 288)\n",
    "cotes6 = CotesMethod([41, 216, 27, 272, 27, 216, 41], 840)\n",
    "\n",
    "def cotes_integration(function, method, a, b, n):\n",
    "    \n",
    "    result = 0\n",
    "    m = len(method.numerators)\n",
    "    \n",
    "    h = (b - a) / n\n",
    "    for i in range(n):\n",
    "        for j in range(m):\n",
    "            if method.numerators[j] != 0:\n",
    "                x = a + (b - a) * (i + j/(m-1)) / n \n",
    "                f = function(x) * method.numerators[j]\n",
    "                \n",
    "                result += f * h \n",
    "        \n",
    "    if not method.denominator is None:\n",
    "        result /= method.denominator\n",
    "        \n",
    "    return result;\n",
    "\n",
    "def monte_carlo_integration(function, a, b, n):\n",
    "    x = np.random.rand(n) * (b - a) + a\n",
    "    return (b - a) * function(x).sum() / n\n",
    "\n",
    "# TODO: negative functions\n",
    "def geometric_monte_carlo_integration(function, a, b, n):\n",
    "    x = np.random.rand(n) * (b - a) + a\n",
    "    f = function(x)\n",
    "    M = f.max()\n",
    "    y = np.random.rand(n) * M\n",
    "    result = (f > y).sum() * M * (b - a) / n\n",
    "    \n",
    "    return result"
   ]
  },
  {
   "cell_type": "code",
   "execution_count": 118,
   "metadata": {},
   "outputs": [
    {
     "name": "stdout",
     "output_type": "stream",
     "text": [
      "-3.1999999999911446e-05\n",
      "3.9986400806824314\n"
     ]
    }
   ],
   "source": [
    "a = -2\n",
    "b = 2\n",
    "n = 1000000\n",
    "\n",
    "exp = lambda x: np.exp(- x**2)\n",
    "square = lambda x: x ** 2\n",
    "cubic = lambda x: x ** 3\n",
    "\n",
    "print(cotes_integration(cubic, left_rectangle, a, b, n))\n",
    "print(geometric_monte_carlo_integration(cubic, a, b, n))\n"
   ]
  },
  {
   "cell_type": "code",
   "execution_count": null,
   "metadata": {},
   "outputs": [],
   "source": []
  },
  {
   "cell_type": "code",
   "execution_count": null,
   "metadata": {},
   "outputs": [],
   "source": []
  }
 ],
 "metadata": {
  "kernelspec": {
   "display_name": "Python 3",
   "language": "python",
   "name": "python3"
  },
  "language_info": {
   "codemirror_mode": {
    "name": "ipython",
    "version": 3
   },
   "file_extension": ".py",
   "mimetype": "text/x-python",
   "name": "python",
   "nbconvert_exporter": "python",
   "pygments_lexer": "ipython3",
   "version": "3.7.3"
  }
 },
 "nbformat": 4,
 "nbformat_minor": 2
}
